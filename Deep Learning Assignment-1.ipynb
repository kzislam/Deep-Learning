{
 "cells": [
  {
   "cell_type": "code",
   "execution_count": 8,
   "id": "22841516",
   "metadata": {},
   "outputs": [
    {
     "name": "stdout",
     "output_type": "stream",
     "text": [
      "0\n",
      "1\n",
      "2\n",
      "3\n",
      "4\n",
      "5\n",
      "6\n",
      "7\n",
      "8\n",
      "9\n",
      "This is For Loop\n"
     ]
    }
   ],
   "source": [
    "for i in range(10):\n",
    "    print(i)\n",
    "print(\"This is For Loop\")"
   ]
  },
  {
   "cell_type": "code",
   "execution_count": 9,
   "id": "000d92b2",
   "metadata": {},
   "outputs": [
    {
     "ename": "ModuleNotFoundError",
     "evalue": "No module named 'tensorflow'",
     "output_type": "error",
     "traceback": [
      "\u001b[1;31m---------------------------------------------------------------------------\u001b[0m",
      "\u001b[1;31mModuleNotFoundError\u001b[0m                       Traceback (most recent call last)",
      "Input \u001b[1;32mIn [9]\u001b[0m, in \u001b[0;36m<cell line: 1>\u001b[1;34m()\u001b[0m\n\u001b[1;32m----> 1\u001b[0m \u001b[38;5;28;01mimport\u001b[39;00m \u001b[38;5;21;01mtensorflow\u001b[39;00m \u001b[38;5;28;01mas\u001b[39;00m \u001b[38;5;21;01mtf\u001b[39;00m\n\u001b[0;32m      2\u001b[0m \u001b[38;5;28;01mimport\u001b[39;00m \u001b[38;5;21;01mnumpy\u001b[39;00m \u001b[38;5;28;01mas\u001b[39;00m \u001b[38;5;21;01mnp\u001b[39;00m\n\u001b[0;32m      3\u001b[0m \u001b[38;5;28;01mimport\u001b[39;00m \u001b[38;5;21;01mmatplotlib\u001b[39;00m\u001b[38;5;21;01m.\u001b[39;00m\u001b[38;5;21;01mpyplot\u001b[39;00m \u001b[38;5;28;01mas\u001b[39;00m \u001b[38;5;21;01mplt\u001b[39;00m\n",
      "\u001b[1;31mModuleNotFoundError\u001b[0m: No module named 'tensorflow'"
     ]
    }
   ],
   "source": [
    "import tensorflow as tf\n",
    "import numpy as np\n",
    "import matplotlib.pyplot as plt\n",
    "import warnings\n",
    "warnings.filterwarnings('ignore')\n",
    "%matplotlib inline"
   ]
  },
  {
   "cell_type": "code",
   "execution_count": 6,
   "id": "585ef70b",
   "metadata": {},
   "outputs": [
    {
     "data": {
      "text/plain": [
       "'C:\\\\Users\\\\kamal'"
      ]
     },
     "execution_count": 6,
     "metadata": {},
     "output_type": "execute_result"
    }
   ],
   "source": [
    "pwd\n"
   ]
  },
  {
   "cell_type": "code",
   "execution_count": 7,
   "id": "0813da45",
   "metadata": {},
   "outputs": [
    {
     "ename": "SyntaxError",
     "evalue": "invalid syntax (3881067889.py, line 2)",
     "output_type": "error",
     "traceback": [
      "\u001b[1;36m  Input \u001b[1;32mIn [7]\u001b[1;36m\u001b[0m\n\u001b[1;33m    def_init_(self,layers):\u001b[0m\n\u001b[1;37m                           ^\u001b[0m\n\u001b[1;31mSyntaxError\u001b[0m\u001b[1;31m:\u001b[0m invalid syntax\n"
     ]
    }
   ],
   "source": [
    "class NeuralNetwork:\n",
    "    def_init_(self,layers):\n",
    "        self.layers=layers\n",
    "        Self.L=len(layers)\n",
    "        self.number_feature=layers[0]\n",
    "        self.number_class=layers[-1]\n",
    "    self.w={}\n",
    "    self.b={}\n",
    "    self.dw={}\n",
    "    self.db={}\n",
    "    self.setup()\n",
    "    def setup(self):\n",
    "        for i in range(1,self.L)\n",
    "        self.w[i]=if.variable(tf.random.normal(shape=(self.layer[i],self.layer[i-1])))\n",
    "        self.b[i]=if.variable(tf.random.normal(shape=(self.layer[i],1)))\n",
    "        \n",
    "class NeuralNetwork(NeuralNetwork):\n",
    "    def forwardPass(self,A)\n",
    "    A=tf.convert_to_tensor(A,type=float32)\n",
    "    for i in range(1,self.L)\n",
    "    Z=tf.matmul(A,tf.transpose(self.w[i])+tf.transpose(self.b[i]))\n",
    "    if i!=self L-1\n",
    "       A=tf.nn.relu(z)\n",
    "    else\n",
    "       A=Z\n",
    "    return A\n",
    "    "
   ]
  },
  {
   "cell_type": "markdown",
   "id": "6ba01e34",
   "metadata": {},
   "source": [
    "# Loss and upgrading parameters"
   ]
  },
  {
   "cell_type": "code",
   "execution_count": 16,
   "id": "3a178b7d",
   "metadata": {},
   "outputs": [
    {
     "ename": "SyntaxError",
     "evalue": "invalid syntax (3415400436.py, line 5)",
     "output_type": "error",
     "traceback": [
      "\u001b[1;36m  Input \u001b[1;32mIn [16]\u001b[1;36m\u001b[0m\n\u001b[1;33m    for  in range(1,self.L):\u001b[0m\n\u001b[1;37m         ^\u001b[0m\n\u001b[1;31mSyntaxError\u001b[0m\u001b[1;31m:\u001b[0m invalid syntax\n"
     ]
    }
   ],
   "source": [
    "class NeuralNetwork(NeuralNetwork):\n",
    "    def compute_loss(self,A,Y):\n",
    "        return tf.reduce_mean(tf.nn.softmax_cross_entropy_with_logits(Y,A))\n",
    "    def upgrade_parameters(self,lr):\n",
    "        for  in range(1,self.L):\n",
    "            self.w[j]=assing_sub(lr*self.dw[j])\n",
    "            self.b[j]=assing_sub(lr*self.db[j])"
   ]
  },
  {
   "cell_type": "code",
   "execution_count": 5,
   "id": "100c576a",
   "metadata": {},
   "outputs": [
    {
     "ename": "SyntaxError",
     "evalue": "invalid syntax (2017812143.py, line 2)",
     "output_type": "error",
     "traceback": [
      "\u001b[1;36m  Input \u001b[1;32mIn [5]\u001b[1;36m\u001b[0m\n\u001b[1;33m    def predict(self.x):\u001b[0m\n\u001b[1;37m                    ^\u001b[0m\n\u001b[1;31mSyntaxError\u001b[0m\u001b[1;31m:\u001b[0m invalid syntax\n"
     ]
    }
   ],
   "source": [
    "class NeuralNetwork(NeuralNetwork):\n",
    "    def predict(self.x):\n",
    "        A=self.forwardpass(x)\n",
    "        return tf.argmax(tf.nn.softmax(A),axis=1)\n",
    "    def info(self):\n",
    "        num_params=0\n",
    "        for i in range(1,self.L):\n",
    "            num_params+=self.w[i].shape[0]*self.w[i].shape[1]\n",
    "            num_params+=self.b[i].shape[0]\n",
    "            \n",
    "            print(\"Number of Features:{}\".format(self.number_feature))\n",
    "            print(\"Total number of class is:{}\".format(self.num_params))\n",
    "        print(\"Hidden Layer information is :\")\n",
    "        for j in range(1,self.L-1):\n",
    "            print(\"Layers : {}, units{}\".format(i,self.layers[j])\n",
    "            print(\"Total number of parameters :{}\".format(num_params))"
   ]
  },
  {
   "cell_type": "code",
   "execution_count": null,
   "id": "fe85f6b9",
   "metadata": {},
   "outputs": [],
   "source": [
    "class NeuralNetowrk(NeuralNetowrk):\n",
    "    def training_on_batch(self, x, y, lr):\n",
    "        x = tf.convert_to_tensor(x, dtype=tf.float32)\n",
    "        y = tf.convert_to_tensor(y, dtype=tf.float32)\n",
    "        \n",
    "        with tf.GradientTape(persistent=True) as tape:\n",
    "            A = self.forwardPass(x)\n",
    "            loss = self.compute_loss(A, y)\n",
    "\n",
    "        for key in self.W.keys():\n",
    "            self.dw[key] = tape.gradient(loss, self.W[key])\n",
    "            self.db[key] = tape.gradient(loss, self.b[key])\n",
    "        \n",
    "        del tape\n",
    "\n",
    "        self.upgrade_parameters(lr)\n",
    "        return loss.numpy()"
   ]
  },
  {
   "cell_type": "markdown",
   "id": "59d7587e",
   "metadata": {},
   "source": [
    "# Training data"
   ]
  },
  {
   "cell_type": "code",
   "execution_count": 2,
   "id": "7bff81d7",
   "metadata": {},
   "outputs": [
    {
     "ename": "SyntaxError",
     "evalue": "invalid syntax (3921454456.py, line 2)",
     "output_type": "error",
     "traceback": [
      "\u001b[1;36m  Input \u001b[1;32mIn [2]\u001b[1;36m\u001b[0m\n\u001b[1;33m    def train(self,x_train,y_train,x_test,y_test,epochs,step_per_epochs,batch_size.lr):\u001b[0m\n\u001b[1;37m                                                                                  ^\u001b[0m\n\u001b[1;31mSyntaxError\u001b[0m\u001b[1;31m:\u001b[0m invalid syntax\n"
     ]
    }
   ],
   "source": [
    "class NeuralNetwork(NeuralNetwork):\n",
    "    def train(self,x_train,y_train,x_test,y_test,epochs,step_per_epochs,batch_size.lr):\n",
    "        history={\"val_loss\":[],\"train_loss\":[],\"val_acc\":[]}\n",
    "        for e in range(0,epochs):\n",
    "            training_loss_epochs=0.0\n",
    "            print(\"Epochs {}\"formate(e),\"I\")\n",
    "            for i in range(step_per_epochs):\n",
    "                x_batch=x_train[i*batch_size:(i+1)*batch_size]\n",
    "                y_batch=y_train[i*batch_size:(i+1)*batch_size]\n",
    "                \n",
    "                batch_loss=self.trainig_loss_on_batch(x_batch,y_batch,lr)\n",
    "                epochs_loss_train+=batch_loss\n",
    "                if i%int(step_per_epochs/10)==0 print(end=\".\")\n",
    "                history[\"train_loss\"].append(epochs_loss_train/step_per_epochs)\n",
    "                valA = self.forwardPass(x_test)\n",
    "            history['val_loss'].append(self.compute_loss(y_test, valA).numpy())\n",
    "\n",
    "            valuPr = self.predict(x_test)\n",
    "            history['val_acc'].append(np.mean(np.argmax(y_test, axis=1) == valuPr.numpy()))\n",
    "            print(\"Value Accuracy: \", history['val_acc'][-1])\n",
    "        # here, we will get  training information\n",
    "        return history\n",
    "                "
   ]
  },
  {
   "cell_type": "code",
   "execution_count": null,
   "id": "b3ec21d3",
   "metadata": {},
   "outputs": [],
   "source": [
    "def loadDatasets():\n",
    "    (x_train, y_train), (x_test, y_test) =tf.keras.datasets.mnist.load_data()\n",
    "    x_train = np.reshape(x_train, (x_train.shape[0], 784))/255.0\n",
    "    y_train=tf.keras.utils.to_categorical(y_train)\n",
    "    x_test= np.reshape(x_test, (x_test.shape[0], 784))/255.0\n",
    "    y_test= tf.keras.utils.to_categorical(y_test)\n",
    "    print(\"X Train Datasets Shape: {}\".format(x_train.shape))\n",
    "    print(\"Y test Data {}\".format(y_test))\n",
    "    print(\"Len of Y test Datasets: {}\".format(len(y_test[0])))\n",
    "    print(\"Unique value is : {}\".format(np.unique(y_test[0])))\n",
    "\n",
    "    return (x_train, y_train), (x_test, y_test)\n",
    "\n",
    "def plot_random_sample(x, y, p = None):\n",
    "    indicies = np.random.choice(range(0, x.shape[0]), 10)\n",
    "    y = np.argmax(y, axis = 1)\n",
    "    if p is None:\n",
    "        p = y\n",
    "\n",
    "    plt.figure(figsize=(10, 4))\n",
    "    for i, index in enumerate(indicies):\n",
    "        plt.subplot(2, 5, i+1)\n",
    "        plt.imshow(x[index].reshape((28, 28)), cmap = 'binary')\n",
    "        plt.xticks([])\n",
    "        plt.yticks([])\n",
    "        plt.gray()\n",
    "\n",
    "        if y[index] == p[index]:\n",
    "            col = 'g'\n",
    "        else:\n",
    "            col = 'r'\n",
    "        plt.xlabel(str(p[index]), color = col)\n",
    "    return plt\n",
    "    "
   ]
  },
  {
   "cell_type": "code",
   "execution_count": 3,
   "id": "0e34ddb4",
   "metadata": {},
   "outputs": [
    {
     "ename": "NameError",
     "evalue": "name 'loadDatasets' is not defined",
     "output_type": "error",
     "traceback": [
      "\u001b[1;31m---------------------------------------------------------------------------\u001b[0m",
      "\u001b[1;31mNameError\u001b[0m                                 Traceback (most recent call last)",
      "Input \u001b[1;32mIn [3]\u001b[0m, in \u001b[0;36m<cell line: 1>\u001b[1;34m()\u001b[0m\n\u001b[1;32m----> 1\u001b[0m (x_train, y_train), (x_test, y_test) \u001b[38;5;241m=\u001b[39m \u001b[43mloadDatasets\u001b[49m()\n",
      "\u001b[1;31mNameError\u001b[0m: name 'loadDatasets' is not defined"
     ]
    }
   ],
   "source": [
    "(x_train, y_train), (x_test, y_test) = loadDatasets()"
   ]
  },
  {
   "cell_type": "code",
   "execution_count": 4,
   "id": "e6401d6f",
   "metadata": {},
   "outputs": [
    {
     "ename": "NameError",
     "evalue": "name 'plot_random_sample' is not defined",
     "output_type": "error",
     "traceback": [
      "\u001b[1;31m---------------------------------------------------------------------------\u001b[0m",
      "\u001b[1;31mNameError\u001b[0m                                 Traceback (most recent call last)",
      "Input \u001b[1;32mIn [4]\u001b[0m, in \u001b[0;36m<cell line: 1>\u001b[1;34m()\u001b[0m\n\u001b[1;32m----> 1\u001b[0m \u001b[43mplot_random_sample\u001b[49m(x_train, y_train)\u001b[38;5;241m.\u001b[39mshow()\n",
      "\u001b[1;31mNameError\u001b[0m: name 'plot_random_sample' is not defined"
     ]
    }
   ],
   "source": [
    "plot_random_sample(x_train, y_train).show()\n"
   ]
  },
  {
   "cell_type": "code",
   "execution_count": null,
   "id": "39b4c093",
   "metadata": {},
   "outputs": [],
   "source": []
  }
 ],
 "metadata": {
  "kernelspec": {
   "display_name": "Python 3 (ipykernel)",
   "language": "python",
   "name": "python3"
  },
  "language_info": {
   "codemirror_mode": {
    "name": "ipython",
    "version": 3
   },
   "file_extension": ".py",
   "mimetype": "text/x-python",
   "name": "python",
   "nbconvert_exporter": "python",
   "pygments_lexer": "ipython3",
   "version": "3.9.12"
  }
 },
 "nbformat": 4,
 "nbformat_minor": 5
}
