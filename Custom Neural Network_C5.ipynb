{
 "cells": [
  {
   "cell_type": "markdown",
   "id": "b741b27f",
   "metadata": {},
   "source": [
    "# CNN Basic "
   ]
  },
  {
   "cell_type": "code",
   "execution_count": 31,
   "id": "f249fe68",
   "metadata": {},
   "outputs": [],
   "source": [
    "#  Three main layer (input layer-CN/Dense layer/Convoluted layer,hidden layer-NN,output layer-FCNN)\n",
    "#  Besides these need some supporting layer(Relu layer,Pooling layer-major layer,some optional layer-Batch normalization,Dropout,Upsampling we can use it instead of Pooling layer if the dataset is large enough.\n",
    "#    1.input layer --CNN/Dense layer/Convoluted layer(passing feature in the layer)\n",
    "#         i.Relu layer\n",
    "#        ii.Pooling layer(we can use Batch normalization and Dropout after pooling layer if we want.)\n",
    "#  we can use Upsampling instead of pooling layer if the dataset is bigger.\n",
    "#         i.Batch normalization\n",
    "#        ii.Dropout\n",
    "#    2.Hidden layer--NN(Neural Network)\n",
    "#    3.Output layer-FCNN(Fully Connected Neural Network)\n",
    "\n",
    "# Required module\n",
    "#     Tensorflow\n",
    "#     MaxNet(Combination of Tensorflow and Pytorch)\n",
    "#     Numpy\n",
    "#     Pandas\n",
    "#     Pillow\n",
    "#     Opencv\n",
    "#     Scikit learn\n",
    "#        i.Plotly\n",
    "#       ii.Matplotlib\n",
    "#      iii.Seaborn\n",
    "#       iv.D3.js(Dynamic visualization using java script)\n",
    "#  NLTK(Natural Language Tools Kit)\n"
   ]
  },
  {
   "cell_type": "code",
   "execution_count": 32,
   "id": "a272d24f",
   "metadata": {},
   "outputs": [
    {
     "name": "stdout",
     "output_type": "stream",
     "text": [
      "Requirement already satisfied: tensorflow in c:\\users\\kamal\\anaconda3\\lib\\site-packages (2.10.0)\n",
      "Requirement already satisfied: keras-preprocessing>=1.1.1 in c:\\users\\kamal\\anaconda3\\lib\\site-packages (from tensorflow) (1.1.2)\n",
      "Requirement already satisfied: opt-einsum>=2.3.2 in c:\\users\\kamal\\anaconda3\\lib\\site-packages (from tensorflow) (3.3.0)\n",
      "Requirement already satisfied: tensorflow-io-gcs-filesystem>=0.23.1 in c:\\users\\kamal\\anaconda3\\lib\\site-packages (from tensorflow) (0.27.0)\n",
      "Requirement already satisfied: six>=1.12.0 in c:\\users\\kamal\\anaconda3\\lib\\site-packages (from tensorflow) (1.16.0)\n",
      "Requirement already satisfied: protobuf<3.20,>=3.9.2 in c:\\users\\kamal\\anaconda3\\lib\\site-packages (from tensorflow) (3.19.1)\n",
      "Requirement already satisfied: tensorboard<2.11,>=2.10 in c:\\users\\kamal\\anaconda3\\lib\\site-packages (from tensorflow) (2.10.1)\n",
      "Requirement already satisfied: gast<=0.4.0,>=0.2.1 in c:\\users\\kamal\\anaconda3\\lib\\site-packages (from tensorflow) (0.4.0)\n",
      "Requirement already satisfied: flatbuffers>=2.0 in c:\\users\\kamal\\anaconda3\\lib\\site-packages (from tensorflow) (22.10.26)\n",
      "Requirement already satisfied: numpy>=1.20 in c:\\users\\kamal\\anaconda3\\lib\\site-packages (from tensorflow) (1.21.5)\n",
      "Requirement already satisfied: tensorflow-estimator<2.11,>=2.10.0 in c:\\users\\kamal\\anaconda3\\lib\\site-packages (from tensorflow) (2.10.0)\n",
      "Requirement already satisfied: setuptools in c:\\users\\kamal\\anaconda3\\lib\\site-packages (from tensorflow) (61.2.0)\n",
      "Requirement already satisfied: termcolor>=1.1.0 in c:\\users\\kamal\\anaconda3\\lib\\site-packages (from tensorflow) (2.1.0)\n",
      "Requirement already satisfied: keras<2.11,>=2.10.0 in c:\\users\\kamal\\anaconda3\\lib\\site-packages (from tensorflow) (2.10.0)\n",
      "Requirement already satisfied: astunparse>=1.6.0 in c:\\users\\kamal\\anaconda3\\lib\\site-packages (from tensorflow) (1.6.3)\n",
      "Requirement already satisfied: typing-extensions>=3.6.6 in c:\\users\\kamal\\anaconda3\\lib\\site-packages (from tensorflow) (4.1.1)\n",
      "Requirement already satisfied: h5py>=2.9.0 in c:\\users\\kamal\\anaconda3\\lib\\site-packages (from tensorflow) (3.6.0)\n",
      "Requirement already satisfied: libclang>=13.0.0 in c:\\users\\kamal\\anaconda3\\lib\\site-packages (from tensorflow) (14.0.6)\n",
      "Requirement already satisfied: wrapt>=1.11.0 in c:\\users\\kamal\\anaconda3\\lib\\site-packages (from tensorflow) (1.12.1)\n",
      "Requirement already satisfied: grpcio<2.0,>=1.24.3 in c:\\users\\kamal\\anaconda3\\lib\\site-packages (from tensorflow) (1.42.0)\n",
      "Requirement already satisfied: packaging in c:\\users\\kamal\\anaconda3\\lib\\site-packages (from tensorflow) (21.3)\n",
      "Requirement already satisfied: absl-py>=1.0.0 in c:\\users\\kamal\\anaconda3\\lib\\site-packages (from tensorflow) (1.3.0)\n",
      "Requirement already satisfied: google-pasta>=0.1.1 in c:\\users\\kamal\\anaconda3\\lib\\site-packages (from tensorflow) (0.2.0)\n",
      "Requirement already satisfied: wheel<1.0,>=0.23.0 in c:\\users\\kamal\\anaconda3\\lib\\site-packages (from astunparse>=1.6.0->tensorflow) (0.37.1)\n",
      "Requirement already satisfied: tensorboard-data-server<0.7.0,>=0.6.0 in c:\\users\\kamal\\anaconda3\\lib\\site-packages (from tensorboard<2.11,>=2.10->tensorflow) (0.6.1)\n",
      "Requirement already satisfied: tensorboard-plugin-wit>=1.6.0 in c:\\users\\kamal\\anaconda3\\lib\\site-packages (from tensorboard<2.11,>=2.10->tensorflow) (1.8.1)\n",
      "Requirement already satisfied: google-auth-oauthlib<0.5,>=0.4.1 in c:\\users\\kamal\\anaconda3\\lib\\site-packages (from tensorboard<2.11,>=2.10->tensorflow) (0.4.6)\n",
      "Requirement already satisfied: werkzeug>=1.0.1 in c:\\users\\kamal\\anaconda3\\lib\\site-packages (from tensorboard<2.11,>=2.10->tensorflow) (2.0.3)\n",
      "Requirement already satisfied: markdown>=2.6.8 in c:\\users\\kamal\\anaconda3\\lib\\site-packages (from tensorboard<2.11,>=2.10->tensorflow) (3.3.4)\n",
      "Requirement already satisfied: requests<3,>=2.21.0 in c:\\users\\kamal\\anaconda3\\lib\\site-packages (from tensorboard<2.11,>=2.10->tensorflow) (2.27.1)\n",
      "Requirement already satisfied: google-auth<3,>=1.6.3 in c:\\users\\kamal\\anaconda3\\lib\\site-packages (from tensorboard<2.11,>=2.10->tensorflow) (1.33.0)\n",
      "Requirement already satisfied: pyasn1-modules>=0.2.1 in c:\\users\\kamal\\anaconda3\\lib\\site-packages (from google-auth<3,>=1.6.3->tensorboard<2.11,>=2.10->tensorflow) (0.2.8)\n",
      "Requirement already satisfied: rsa<5,>=3.1.4 in c:\\users\\kamal\\anaconda3\\lib\\site-packages (from google-auth<3,>=1.6.3->tensorboard<2.11,>=2.10->tensorflow) (4.7.2)\n",
      "Requirement already satisfied: cachetools<5.0,>=2.0.0 in c:\\users\\kamal\\anaconda3\\lib\\site-packages (from google-auth<3,>=1.6.3->tensorboard<2.11,>=2.10->tensorflow) (4.2.2)\n",
      "Requirement already satisfied: requests-oauthlib>=0.7.0 in c:\\users\\kamal\\anaconda3\\lib\\site-packages (from google-auth-oauthlib<0.5,>=0.4.1->tensorboard<2.11,>=2.10->tensorflow) (1.3.1)\n",
      "Requirement already satisfied: pyasn1<0.5.0,>=0.4.6 in c:\\users\\kamal\\anaconda3\\lib\\site-packages (from pyasn1-modules>=0.2.1->google-auth<3,>=1.6.3->tensorboard<2.11,>=2.10->tensorflow) (0.4.8)\n",
      "Requirement already satisfied: charset-normalizer~=2.0.0 in c:\\users\\kamal\\anaconda3\\lib\\site-packages (from requests<3,>=2.21.0->tensorboard<2.11,>=2.10->tensorflow) (2.0.4)\n",
      "Requirement already satisfied: certifi>=2017.4.17 in c:\\users\\kamal\\anaconda3\\lib\\site-packages (from requests<3,>=2.21.0->tensorboard<2.11,>=2.10->tensorflow) (2021.10.8)\n",
      "Requirement already satisfied: idna<4,>=2.5 in c:\\users\\kamal\\anaconda3\\lib\\site-packages (from requests<3,>=2.21.0->tensorboard<2.11,>=2.10->tensorflow) (3.3)\n",
      "Requirement already satisfied: urllib3<1.27,>=1.21.1 in c:\\users\\kamal\\anaconda3\\lib\\site-packages (from requests<3,>=2.21.0->tensorboard<2.11,>=2.10->tensorflow) (1.26.9)\n",
      "Requirement already satisfied: oauthlib>=3.0.0 in c:\\users\\kamal\\anaconda3\\lib\\site-packages (from requests-oauthlib>=0.7.0->google-auth-oauthlib<0.5,>=0.4.1->tensorboard<2.11,>=2.10->tensorflow) (3.2.2)\n",
      "Requirement already satisfied: pyparsing!=3.0.5,>=2.0.2 in c:\\users\\kamal\\anaconda3\\lib\\site-packages (from packaging->tensorflow) (3.0.4)\n",
      "Note: you may need to restart the kernel to use updated packages.\n"
     ]
    }
   ],
   "source": [
    "pip install tensorflow"
   ]
  },
  {
   "cell_type": "markdown",
   "id": "8b0f3e27",
   "metadata": {},
   "source": [
    "# Import Libraries"
   ]
  },
  {
   "cell_type": "code",
   "execution_count": 33,
   "id": "e563f8d3",
   "metadata": {},
   "outputs": [],
   "source": [
    "import tensorflow as tf                              # This Section is for model\n",
    "import numpy as np                                   #                 for algebric analysis\n",
    "import matplotlib.pyplot as plt                      #                 for visualization\n",
    "import warnings\n",
    "warnings.filterwarnings('ignore')                    #                for avoid warnings\n",
    "%matplotlib inline   "
   ]
  },
  {
   "cell_type": "markdown",
   "id": "a2ddf2b0",
   "metadata": {},
   "source": [
    "# Initializing Weight and Bias"
   ]
  },
  {
   "cell_type": "code",
   "execution_count": 34,
   "id": "20bcb1a9",
   "metadata": {},
   "outputs": [],
   "source": [
    "class NeuralNetwork:\n",
    "    def __init__(self,layers):\n",
    "        #instance variables(value initialization)\n",
    "        \n",
    "        \n",
    "    \n",
    "        #instance variables(value initialization)\n",
    "        \n",
    "        self.layers=layers                                                         #  Create layers\n",
    "        self.total_layers=len(layers)                                              #  Total number of layers\n",
    "        self.number_feature=layers[0]                                              #  Total number of feature for 0 index.(feature of feature like data of data-metadata.)\n",
    "        self.number_class=layers[-1]\n",
    "        self.w={}                                                                  #  Weight of per node in a layer(input time ,random weight value assigning as per feature and classes.)\n",
    "        self.b={}                                                                  #  Bias of per node in a layer(input time,random bias value assigning as per classes.)\n",
    "        self.dw={}                                                                 #  Derivatives of weights(multiplication of input and weight,output time random weight value assigning as per feature and classes)\n",
    "        self.db={}                                                                 #  Derivatives of bias(output time random bias value assigning as per classes)\n",
    "        #set up function\n",
    "        self.setup()\n",
    "        \n",
    "    def setup(self):\n",
    "\n",
    "\n",
    "        for i in range(self.total_layers):\n",
    "\n",
    "            self.w[i]=tf.Variable(tf.random.normal(shape=(self.layers[i],self.layers[i-1])))\n",
    "            self.b[i]=tf.Variable(tf.random.normal(shape=(self.layers[i],1)))\n"
   ]
  },
  {
   "cell_type": "markdown",
   "id": "3afe9a63",
   "metadata": {},
   "source": [
    "# Forward Propagation"
   ]
  },
  {
   "cell_type": "code",
   "execution_count": 35,
   "id": "3c9b5832",
   "metadata": {},
   "outputs": [],
   "source": [
    "class NeuralNetwork(NeuralNetwork):                                          #inheritance\n",
    "    def forwardpass(self,A):\n",
    "        A=tf.convert_to_tensor(A,dtype=tf.float32)                           #array data for tensor\n",
    "        for i in range(1,self.total_layers):\n",
    "            Z=tf.matmul(A,tf.transpose(self.w[i]))+tf.transpose(self.b[i])   #update feature value with weight and bias\n",
    "            if i!=self.total_layers-1:\n",
    "                A=tf.nn.relu(Z)                                              #output data with activation function\n",
    "            else:\n",
    "                A=Z\n",
    "        return A                                                             #feature conclusion value for aftermath.\n",
    "                "
   ]
  },
  {
   "cell_type": "markdown",
   "id": "92d9731e",
   "metadata": {},
   "source": [
    "# Back Propagation"
   ]
  },
  {
   "cell_type": "code",
   "execution_count": 36,
   "id": "bdabd79a",
   "metadata": {},
   "outputs": [],
   "source": [
    "class NeuralNetwork(NeuralNetwork):\n",
    "    def compute_loss(self,A,Y):\n",
    "        \n",
    "        return tf.reduce_mean(tf.nn.softmax_cross_entropy_with_logits(Y,A) ) #for optimazation(fixing error after feature conclusion value with actual value)\n",
    "                                                                             #it will return a tensor value.                    \n",
    "    def upgrade_parameters(self,lr):\n",
    "        for j in range(1,self.total_layers):\n",
    "                              \n",
    "                              \n",
    "            self.w[j].assign_sub(lr *self.dw[j])                              #update weight as per learning rate with multiplication output weight.\n",
    "            self.b[j].assign_sub(lr *self.db[j])                              #update bias as per learning rate with multiplication output bias.\n",
    "        \n",
    "                              "
   ]
  },
  {
   "cell_type": "markdown",
   "id": "9dba085f",
   "metadata": {},
   "source": [
    "# Predict and Neural Network Information"
   ]
  },
  {
   "cell_type": "code",
   "execution_count": 37,
   "id": "197d3917",
   "metadata": {},
   "outputs": [],
   "source": [
    "class NeuralNetwork(NeuralNetwork):\n",
    "    def predict(self,x):                                                    # x is an input.  \n",
    "        A=self.forwardpass(x)                                                #feature value process with relu activation function.                             \n",
    "        return tf.argmax(tf.nn.softmax(A),axis=1)                           #final process with relu activation function.\n",
    "    def info(self):\n",
    "        num_params=0                                                       #count number of parameter\n",
    "        for i in range(1,self.total_layers):\n",
    "            num_params+=self.w[i].shape[0] * self.w[i].shape[1]\n",
    "            num_params+=self.b[i].shape[0]\n",
    "        print(\"Number of Feature:{}\".format(self.number_feature))\n",
    "        print(\"Total Number of Class is :{}\".format(self.number_class))\n",
    "        print(\"Hidden Layer information is: \")\n",
    "        for j in range(1,self.total_layers-1):\n",
    "            print(\"Layer:{},Units {}\".format(j,self.layers[j]))\n",
    "        print(\"Total Number of Parameters:{}\".format(num_params))\n",
    "        "
   ]
  },
  {
   "cell_type": "code",
   "execution_count": 38,
   "id": "0c4c0bd3",
   "metadata": {},
   "outputs": [],
   "source": [
    "class NeuralNetwork(NeuralNetwork):\n",
    "    def training_on_batch(self,x,y,lr):\n",
    "        x=tf.convert_to_tensor(x,dtype=tf.float32)\n",
    "        y=tf.convert_to_tensor(y,dtype=tf.float32)\n",
    "        \n",
    "        with tf.GradientTape(persistent=True) as tape:\n",
    "            A=self.forwardpass(x)\n",
    "            loss=self.compute_loss(A,y)\n",
    "            for key in self.w.keys():\n",
    "                self.dw[key]=tape.gradient(loss,self.w[key])\n",
    "                self.db[key]=tape.gradient(loss,self.b[key])\n",
    "                \n",
    "                \n",
    "            del tape\n",
    "            self.upgrade_parameters(lr)\n",
    "            return loss.numpy()"
   ]
  },
  {
   "cell_type": "markdown",
   "id": "5cb203ca",
   "metadata": {},
   "source": [
    "# Training session"
   ]
  },
  {
   "cell_type": "code",
   "execution_count": 39,
   "id": "ef9ec645",
   "metadata": {},
   "outputs": [],
   "source": [
    "class NeuralNetwork(NeuralNetwork):\n",
    "    def train(self,x_train,y_train,x_test,y_test,epochs,step_per_epochs,batch_size,lr):\n",
    "        history={'val_loss':[],\n",
    "                 'train_loss':[],\n",
    "                 'val_acc':[]}      #create a dictionary\n",
    "        for e in range(0,epochs):#loop for number of epochs\n",
    "            epoch_loss_train=0.0\n",
    "        \n",
    "            print(\"Epochs {}\".format(e), end=\"|\")\n",
    "            for i in range(step_per_epochs):      #loop for step per epochs\n",
    "                x_batch=x_train[i*batch_size:(i+1)*batch_size]    #between i and i+1\n",
    "                y_batch=y_train[i*batch_size:(i+1)*batch_size]\n",
    "                batch_loss=self.training_on_batch(x_batch,y_batch,lr)  #per batch loss\n",
    "                epoch_loss_train+=batch_loss        #epoch_loss_train=epoch_loss_train+batch_loss.\n",
    "                                                    #loss for epoch not for step_per_epochs.\n",
    "                                                    #after completing for loop then this line.\n",
    "                if i%int(step_per_epochs/10)==0:    #instead of int we can use '//'\n",
    "                    print(end='.')\n",
    "            history['train_loss'].append(epoch_loss_train/step_per_epochs)\n",
    "            valA=self.forwardpass(x_test)\n",
    "            history['val_loss'].append(self.compute_loss(y_test,valA).numpy())  #in case of loss we just pass the but for value loss we have to compute.\n",
    "                                                               # ytest(actual value),valA(after forward propagation -predicted value)=(Y,A)\n",
    "                                                               #compute_loss tensor vale converted to numpy array otherwise it will not accepted.\n",
    "            valePr=self.predict(x_test)    #valePr->predicted value\n",
    "            history['val_acc'].append(np.mean(np.argmax(y_test,axis=1)==valePr.numpy()))  #argmax() -> return maximum index ,compare between ytest's maximum index with valuePr and then take the mean of that value in a numpy array.\n",
    "            print(\"Value Accuracy:\",history['val_acc'][-1])\n",
    "        #here we will get training information\n",
    "        return history"
   ]
  },
  {
   "cell_type": "code",
   "execution_count": 40,
   "id": "39504859",
   "metadata": {},
   "outputs": [],
   "source": [
    "def loadDatasets():\n",
    "    (x_train,y_train),(x_test,y_test)=tf.keras.datasets.mnist.load_data()\n",
    "    x_train=np.reshape(x_train,(x_train.shape[0],784))/255.0\n",
    "    y_train=tf.keras.utils.to_categorical(y_train)\n",
    "    x_test=np.reshape(x_test,(x_test.shape[0],784))/255.0\n",
    "    y_test=tf.keras.utils.to_categorical(y_test)\n",
    "    print(\"X Train Datasets Shape: {}\".format(x_train.shape))\n",
    "    print(\"Y Test Data{}\".format(y_test))\n",
    "    print(\"Length of Y test Datasets:{}\".format(len(y_test[0])))\n",
    "    print(\"Unique value is :{}\".format(np.unique(y_test[0])))\n",
    "    print(\"Unique value is :{}\".format(np.argmax(y_test[2])))\n",
    "    return (x_train,y_train),(x_test,y_test)\n",
    "\n",
    "def plot_random_sample(x,y,p=None):\n",
    "    indicies=np.random.choice(range(0,x.shape[0]),10)\n",
    "    y=np.argmax(y,axis=1)\n",
    "    if p is None:\n",
    "        p=y\n",
    "    plt.figure(figsize=(10,4))\n",
    "    for i ,index in enumerate(indicies):\n",
    "        plt.subplot(2,5,i+1)\n",
    "        plt.imshow(x[index].reshape((28,28)),cmap='binary')\n",
    "        plt.xticks([])\n",
    "        plt.yticks([])\n",
    "        if y[index]==p[index]:\n",
    "            col='g'\n",
    "        else:\n",
    "            col='r'\n",
    "        plt.xlabel(str(p[index]),color=col)\n",
    "    return plt\n"
   ]
  },
  {
   "cell_type": "code",
   "execution_count": 41,
   "id": "d400cad3",
   "metadata": {},
   "outputs": [
    {
     "name": "stdout",
     "output_type": "stream",
     "text": [
      "X Train Datasets Shape: (60000, 784)\n",
      "Y Test Data[[0. 0. 0. ... 1. 0. 0.]\n",
      " [0. 0. 1. ... 0. 0. 0.]\n",
      " [0. 1. 0. ... 0. 0. 0.]\n",
      " ...\n",
      " [0. 0. 0. ... 0. 0. 0.]\n",
      " [0. 0. 0. ... 0. 0. 0.]\n",
      " [0. 0. 0. ... 0. 0. 0.]]\n",
      "Length of Y test Datasets:10\n",
      "Unique value is :[0. 1.]\n",
      "Unique value is :1\n"
     ]
    }
   ],
   "source": [
    "(x_train,y_train),(x_test,y_test)=loadDatasets()"
   ]
  },
  {
   "cell_type": "code",
   "execution_count": 42,
   "id": "f92d9c42",
   "metadata": {},
   "outputs": [
    {
     "data": {
      "image/png": "[encoded data removed]",
      "text/plain": [
       "<Figure size 720x288 with 10 Axes>"
      ]
     },
     "metadata": {},
     "output_type": "display_data"
    }
   ],
   "source": [
    "#Random Sample of MNIST data\n",
    "plot_random_sample(x_train,y_train).show()"
   ]
  },
  {
   "cell_type": "code",
   "execution_count": 43,
   "id": "1353f156",
   "metadata": {},
   "outputs": [],
   "source": [
    "def plot_results(history):\n",
    "    plt.figure(figsize=(12,4))\n",
    "    epochs=len(history['val_loss'])\n",
    "    plt.subplot(1,2,1)\n",
    "    plt.plot(range(epochs),history['val_loss'],label='Val_Loss')\n",
    "    plt.plot(range(epochs),history['train_loss'],label='Train_Loss')\n",
    "    plt.xticks(list(range(epochs)))\n",
    "    plt.xlabel('Epochs')\n",
    "    plt.ylabel('Loss')\n",
    "    plt.legend()\n",
    "    \n",
    "    \n",
    "    plt.subplot(1,2 ,2)\n",
    "    plt.plot(range(epochs),history['val_acc'],label='Val_Acc')\n",
    "    plt.xticks(list(range(epochs)))\n",
    "    plt.xlabel('Epochs')\n",
    "    plt.ylabel('Accuracy')\n",
    "    plt.legend()\n",
    "    return plt"
   ]
  },
  {
   "cell_type": "code",
   "execution_count": 44,
   "id": "9d48e8fa",
   "metadata": {},
   "outputs": [],
   "source": [
    "network=NeuralNetwork([784,256,256,10])"
   ]
  },
  {
   "cell_type": "code",
   "execution_count": 45,
   "id": "336b21d3",
   "metadata": {},
   "outputs": [
    {
     "name": "stdout",
     "output_type": "stream",
     "text": [
      "Number of Feature:784\n",
      "Total Number of Class is :10\n",
      "Hidden Layer information is: \n",
      "Layer:1,Units 256\n",
      "Layer:2,Units 256\n",
      "Total Number of Parameters:269322\n"
     ]
    }
   ],
   "source": [
    "network.info()"
   ]
  },
  {
   "cell_type": "code",
   "execution_count": 46,
   "id": "2ba0272d",
   "metadata": {},
   "outputs": [],
   "source": [
    "batch_size=128\n",
    "epochs=20\n",
    "step_per_epochs=int(x_train.shape[0]/batch_size)"
   ]
  },
  {
   "cell_type": "code",
   "execution_count": 47,
   "id": "993d2b87",
   "metadata": {},
   "outputs": [],
   "source": [
    "learning_rate=1e-3"
   ]
  },
  {
   "cell_type": "code",
   "execution_count": 48,
   "id": "ddf902d7",
   "metadata": {},
   "outputs": [
    {
     "name": "stdout",
     "output_type": "stream",
     "text": [
      "Epochs 0|WARNING:tensorflow:Calling GradientTape.gradient on a persistent tape inside its context is significantly less efficient than calling it outside the context (it causes the gradient ops to be recorded on the tape, leading to increased CPU and memory usage). Only call GradientTape.gradient inside the context if you actually want to trace the gradient in order to compute higher order derivatives.\n",
      "WARNING:tensorflow:Calling GradientTape.gradient on a persistent tape inside its context is significantly less efficient than calling it outside the context (it causes the gradient ops to be recorded on the tape, leading to increased CPU and memory usage). Only call GradientTape.gradient inside the context if you actually want to trace the gradient in order to compute higher order derivatives.\n",
      "...........Value Accuracy: 0.8101\n",
      "Epochs 1|...........Value Accuracy: 0.8474\n",
      "Epochs 2|...........Value Accuracy: 0.8631\n",
      "Epochs 3|...........Value Accuracy: 0.8764\n",
      "Epochs 4|...........Value Accuracy: 0.8826\n",
      "Epochs 5|...........Value Accuracy: 0.8875\n",
      "Epochs 6|...........Value Accuracy: 0.8917\n",
      "Epochs 7|...........Value Accuracy: 0.8944\n",
      "Epochs 8|...........Value Accuracy: 0.8987\n",
      "Epochs 9|...........Value Accuracy: 0.9016\n",
      "Epochs 10|...........Value Accuracy: 0.9032\n",
      "Epochs 11|...........Value Accuracy: 0.9049\n",
      "Epochs 12|...........Value Accuracy: 0.9061\n",
      "Epochs 13|...........Value Accuracy: 0.9075\n",
      "Epochs 14|...........Value Accuracy: 0.9088\n",
      "Epochs 15|...........Value Accuracy: 0.9098\n",
      "Epochs 16|...........Value Accuracy: 0.9107\n",
      "Epochs 17|...........Value Accuracy: 0.9119\n",
      "Epochs 18|...........Value Accuracy: 0.9122\n",
      "Epochs 19|...........Value Accuracy: 0.9124\n"
     ]
    }
   ],
   "source": [
    "history=network.train(x_train,y_train,x_test,y_test,epochs,step_per_epochs,batch_size,learning_rate)"
   ]
  },
  {
   "cell_type": "markdown",
   "id": "32f7fd23",
   "metadata": {},
   "source": [
    "# Results for Val_loss,Train_loss,Val_acc "
   ]
  },
  {
   "cell_type": "code",
   "execution_count": 52,
   "id": "1431c878",
   "metadata": {},
   "outputs": [
    {
     "data": {
      "image/png": "[encoded data removed]",
      "text/plain": [
       "<Figure size 864x288 with 2 Axes>"
      ]
     },
     "metadata": {
      "needs_background": "light"
     },
     "output_type": "display_data"
    }
   ],
   "source": [
    "plot_results(history).show()"
   ]
  },
  {
   "cell_type": "code",
   "execution_count": 53,
   "id": "0ecee397",
   "metadata": {},
   "outputs": [],
   "source": [
    "preds=network.predict(x_test)"
   ]
  },
  {
   "cell_type": "code",
   "execution_count": 54,
   "id": "2c9084ad",
   "metadata": {},
   "outputs": [
    {
     "data": {
      "image/png": "[encoded data removed]",
      "text/plain": [
       "<Figure size 720x288 with 10 Axes>"
      ]
     },
     "metadata": {},
     "output_type": "display_data"
    }
   ],
   "source": [
    "#Model Predicted Sample\n",
    "plot_random_sample(x_test,y_test,preds.numpy()).show()"
   ]
  },
  {
   "cell_type": "code",
   "execution_count": null,
   "id": "7e0643bb",
   "metadata": {},
   "outputs": [],
   "source": []
  },
  {
   "cell_type": "code",
   "execution_count": null,
   "id": "e5c74091",
   "metadata": {},
   "outputs": [],
   "source": []
  }
 ],
 "metadata": {
  "kernelspec": {
   "display_name": "Python 3 (ipykernel)",
   "language": "python",
   "name": "python3"
  },
  "language_info": {
   "codemirror_mode": {
    "name": "ipython",
    "version": 3
   },
   "file_extension": ".py",
   "mimetype": "text/x-python",
   "name": "python",
   "nbconvert_exporter": "python",
   "pygments_lexer": "ipython3",
   "version": "3.9.12"
  }
 },
 "nbformat": 4,
 "nbformat_minor": 5
}
